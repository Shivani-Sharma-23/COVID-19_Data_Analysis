{
 "cells": [
  {
   "cell_type": "code",
   "execution_count": 1,
   "id": "019d2655",
   "metadata": {},
   "outputs": [],
   "source": [
    "import pandas as pd\n",
    "import pickle as pkl\n",
    "import numpy as np"
   ]
  },
  {
   "cell_type": "code",
   "execution_count": 2,
   "id": "1778fe94",
   "metadata": {},
   "outputs": [],
   "source": [
    "def loadFile(filename):\n",
    "    file = open(filename, \"rb\")\n",
    "    obj = pkl.load(file)\n",
    "    file.close()\n",
    "    return obj"
   ]
  },
  {
   "cell_type": "code",
   "execution_count": 4,
   "id": "c8fcbb7f",
   "metadata": {},
   "outputs": [],
   "source": [
    "model = loadFile(\"model.pkl\")\n",
    "minmax = loadFile(\"minmax.pkl\")\n",
    "gender_label = loadFile(\"gender.pkl\")\n",
    "severe_label = loadFile(\"severe.pkl\")\n",
    "contact_label = loadFile(\"contact.pkl\")"
   ]
  },
  {
   "cell_type": "code",
   "execution_count": 5,
   "id": "b9d91903",
   "metadata": {},
   "outputs": [],
   "source": [
    "age = 30\n",
    "gender = \"Male\"\n",
    "body_pain = 0\n",
    "fever = 101\n",
    "runny_nose = 1\n",
    "breathing = 1\n",
    "nasal = 0\n",
    "sore = 1\n",
    "severity = \"Moderate\"\n",
    "contact = \"yes\""
   ]
  },
  {
   "cell_type": "code",
   "execution_count": 6,
   "id": "33e22964",
   "metadata": {},
   "outputs": [],
   "source": [
    "if gender == \"Female\":\n",
    "    female = 1\n",
    "    male = 0\n",
    "    trans = 0\n",
    "elif gender == \"Male\":\n",
    "    female = 0\n",
    "    male = 1\n",
    "    trans = 0\n",
    "else:\n",
    "    female = 0\n",
    "    male = 0\n",
    "    trans = 1\n",
    "    \n",
    "if severity == \"Mild\":\n",
    "    mild = 1\n",
    "    moderate = 0\n",
    "    severe = 0\n",
    "elif severity == \"Moderate\":\n",
    "    mild = 0\n",
    "    moderate = 1\n",
    "    severe = 0\n",
    "else:\n",
    "    mild = 0\n",
    "    moderate = 0\n",
    "    severe = 1\n",
    "    \n",
    "if contact == \"no\":\n",
    "    no = 1\n",
    "    yes = 0\n",
    "    not_known = 0\n",
    "elif contact == \"yes\":\n",
    "    no = 0\n",
    "    yes = 1\n",
    "    not_known = 0\n",
    "else:\n",
    "    no = 0\n",
    "    yes = 0\n",
    "    not_known = 1\n",
    "    \n",
    "\n",
    "data = np.array([[age, body_pain, fever, runny_nose, breathing, nasal, sore, \n",
    "        female, male, trans, mild, moderate, severe,\n",
    "        no, not_known, yes]])\n"
   ]
  },
  {
   "cell_type": "code",
   "execution_count": 7,
   "id": "e56fb7c0",
   "metadata": {},
   "outputs": [
    {
     "name": "stderr",
     "output_type": "stream",
     "text": [
      "C:\\Users\\shiva\\anaconda3\\Lib\\site-packages\\sklearn\\base.py:464: UserWarning: X does not have valid feature names, but MinMaxScaler was fitted with feature names\n",
      "  warnings.warn(\n"
     ]
    }
   ],
   "source": [
    "test_data = minmax.transform(data)"
   ]
  },
  {
   "cell_type": "code",
   "execution_count": 8,
   "id": "ba060941",
   "metadata": {},
   "outputs": [
    {
     "data": {
      "text/plain": [
       "array([1], dtype=int64)"
      ]
     },
     "execution_count": 8,
     "metadata": {},
     "output_type": "execute_result"
    }
   ],
   "source": [
    "model.predict(test_data)"
   ]
  },
  {
   "cell_type": "code",
   "execution_count": null,
   "id": "be043e6f",
   "metadata": {},
   "outputs": [],
   "source": []
  }
 ],
 "metadata": {
  "kernelspec": {
   "display_name": "Python 3 (ipykernel)",
   "language": "python",
   "name": "python3"
  },
  "language_info": {
   "codemirror_mode": {
    "name": "ipython",
    "version": 3
   },
   "file_extension": ".py",
   "mimetype": "text/x-python",
   "name": "python",
   "nbconvert_exporter": "python",
   "pygments_lexer": "ipython3",
   "version": "3.11.4"
  }
 },
 "nbformat": 4,
 "nbformat_minor": 5
}
